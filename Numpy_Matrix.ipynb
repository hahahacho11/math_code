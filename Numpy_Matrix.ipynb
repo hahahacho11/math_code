{
  "nbformat": 4,
  "nbformat_minor": 0,
  "metadata": {
    "colab": {
      "provenance": [],
      "authorship_tag": "ABX9TyMFbfjhsN5pUxiTosUczOy4"
    },
    "kernelspec": {
      "name": "python3",
      "display_name": "Python 3"
    },
    "language_info": {
      "name": "python"
    }
  },
  "cells": [
    {
      "cell_type": "code",
      "execution_count": null,
      "metadata": {
        "id": "-rK_jbUy-slv"
      },
      "outputs": [],
      "source": [
        "import numpy as np"
      ]
    },
    {
      "cell_type": "code",
      "source": [
        "X = np.array ([\n",
        "    [1, -1, 2],\n",
        "    [3, 2, 2],\n",
        "    [4, 1, 2]\n",
        "])"
      ],
      "metadata": {
        "id": "RTP6P1q_-xDE"
      },
      "execution_count": null,
      "outputs": []
    },
    {
      "cell_type": "code",
      "source": [
        "X"
      ],
      "metadata": {
        "colab": {
          "base_uri": "https://localhost:8080/"
        },
        "id": "RIH4xE4X-6YR",
        "outputId": "ddcbb0d3-058e-4770-f491-8103848c50b1"
      },
      "execution_count": null,
      "outputs": [
        {
          "output_type": "execute_result",
          "data": {
            "text/plain": [
              "array([[ 1, -1,  2],\n",
              "       [ 3,  2,  2],\n",
              "       [ 4,  1,  2]])"
            ]
          },
          "metadata": {},
          "execution_count": 4
        }
      ]
    },
    {
      "cell_type": "markdown",
      "source": [
        "### 전치행렬 (Transposed Matrix)\n",
        "\n",
        "전치행렬은 행렬의 행과 열이 뒤바뀐 모양. T를 거듭제곱의 모양으로 써 표시함."
      ],
      "metadata": {
        "id": "4cDhevpP_JQZ"
      }
    },
    {
      "cell_type": "code",
      "source": [
        "# 전치행렬 만드는 기본 방법\n",
        "X_transpose = np.transpose(X)\n",
        "X_transpose"
      ],
      "metadata": {
        "colab": {
          "base_uri": "https://localhost:8080/"
        },
        "id": "gnxHmTk9-9Kw",
        "outputId": "5fa7a6a1-0ea7-4e86-a761-a417638ac671"
      },
      "execution_count": null,
      "outputs": [
        {
          "output_type": "execute_result",
          "data": {
            "text/plain": [
              "array([[ 1,  3,  4],\n",
              "       [-1,  2,  1],\n",
              "       [ 2,  2,  2]])"
            ]
          },
          "metadata": {},
          "execution_count": 7
        }
      ]
    },
    {
      "cell_type": "code",
      "source": [
        "# 전치행렬 만드는 가장 쉬운 방법 \"T\"\n",
        "X_transpose = X.T\n",
        "X_transpose"
      ],
      "metadata": {
        "colab": {
          "base_uri": "https://localhost:8080/"
        },
        "id": "9PyzjWco_C6t",
        "outputId": "eb2a81d6-f417-4251-d110-3907f3468466"
      },
      "execution_count": null,
      "outputs": [
        {
          "output_type": "execute_result",
          "data": {
            "text/plain": [
              "array([[ 1,  3,  4],\n",
              "       [-1,  2,  1],\n",
              "       [ 2,  2,  2]])"
            ]
          },
          "metadata": {},
          "execution_count": 8
        }
      ]
    },
    {
      "cell_type": "markdown",
      "source": [
        "### 단위행렬 (Identity Matrix)\n",
        "\n",
        "단위행렬은 주대각전의 원소가 모두 1이며 나머지 원소는 모두 0인 행렬."
      ],
      "metadata": {
        "id": "zNYeLC5d_oRv"
      }
    },
    {
      "cell_type": "code",
      "source": [
        "# 단위행렬 만들기\n",
        "I = np.identity(3)\n",
        "I"
      ],
      "metadata": {
        "colab": {
          "base_uri": "https://localhost:8080/"
        },
        "id": "bOpqG7sF_Rax",
        "outputId": "31ae1004-049d-492a-e736-3126b45f3da3"
      },
      "execution_count": null,
      "outputs": [
        {
          "output_type": "execute_result",
          "data": {
            "text/plain": [
              "array([[1., 0., 0.],\n",
              "       [0., 1., 0.],\n",
              "       [0., 0., 1.]])"
            ]
          },
          "metadata": {},
          "execution_count": 9
        }
      ]
    },
    {
      "cell_type": "code",
      "source": [
        "# 행렬의 곱\n",
        "X @ I"
      ],
      "metadata": {
        "colab": {
          "base_uri": "https://localhost:8080/"
        },
        "id": "cNneU2YPAH_a",
        "outputId": "d065f079-9ce6-448c-8c1e-416d076e62cf"
      },
      "execution_count": null,
      "outputs": [
        {
          "output_type": "execute_result",
          "data": {
            "text/plain": [
              "array([[ 1., -1.,  2.],\n",
              "       [ 3.,  2.,  2.],\n",
              "       [ 4.,  1.,  2.]])"
            ]
          },
          "metadata": {},
          "execution_count": 11
        }
      ]
    },
    {
      "cell_type": "markdown",
      "source": [
        "### 역행렬 (Inverse Matrix)\n",
        "\n",
        "역행렬은 어떤 행렬에 곱하여 단위행렬이 나오게 해주는 것.\n",
        "\n",
        "모든 행렬이 역행렬을 가지진 않음. 단, 코딩에서 pinv함수는 역행렬이 없어도 역행렬과 최대한 비슷한 효과를 내는 값을 찾아 리턴."
      ],
      "metadata": {
        "id": "WV_N-ObtAPVI"
      }
    },
    {
      "cell_type": "code",
      "source": [
        "X_inverse = np.linalg.pinv(X)\n",
        "X_inverse"
      ],
      "metadata": {
        "colab": {
          "base_uri": "https://localhost:8080/"
        },
        "id": "TDSBqglOAK7n",
        "outputId": "8488b5cf-7719-419e-d455-643ae9b09c86"
      },
      "execution_count": null,
      "outputs": [
        {
          "output_type": "execute_result",
          "data": {
            "text/plain": [
              "array([[-0.2, -0.4,  0.6],\n",
              "       [-0.2,  0.6, -0.4],\n",
              "       [ 0.5,  0.5, -0.5]])"
            ]
          },
          "metadata": {},
          "execution_count": 12
        }
      ]
    },
    {
      "cell_type": "code",
      "source": [
        "# 행렬의 곱\n",
        "X @ X_inverse"
      ],
      "metadata": {
        "colab": {
          "base_uri": "https://localhost:8080/"
        },
        "id": "87_h_A1UA3-v",
        "outputId": "01dcc841-9dd0-42fa-8d7c-5dc01e9321e5"
      },
      "execution_count": null,
      "outputs": [
        {
          "output_type": "execute_result",
          "data": {
            "text/plain": [
              "array([[ 1.00000000e+00,  5.55111512e-16, -8.88178420e-16],\n",
              "       [ 0.00000000e+00,  1.00000000e+00, -8.88178420e-16],\n",
              "       [ 0.00000000e+00,  3.33066907e-16,  1.00000000e+00]])"
            ]
          },
          "metadata": {},
          "execution_count": 13
        }
      ]
    },
    {
      "cell_type": "code",
      "source": [],
      "metadata": {
        "id": "e2g3OOPuBC6H"
      },
      "execution_count": null,
      "outputs": []
    }
  ]
}