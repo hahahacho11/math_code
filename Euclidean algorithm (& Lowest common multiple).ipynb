{
 "cells": [
  {
   "cell_type": "markdown",
   "id": "37271081",
   "metadata": {},
   "source": [
    "### 1. 유클리디안 호제법을 이용한 최대공약수(GCM)을 구하는 함수 정의"
   ]
  },
  {
   "cell_type": "code",
   "execution_count": 1,
   "id": "75bceae1",
   "metadata": {},
   "outputs": [],
   "source": [
    "def GCD (n, m):\n",
    "    while (m):\n",
    "        n, m = m, n%m\n",
    "    return n"
   ]
  },
  {
   "cell_type": "markdown",
   "id": "c6dbe66d",
   "metadata": {},
   "source": [
    "### 2. 위의 최대공약수를 이용해 최소공배수(LCM)을 구하는 함수 정의"
   ]
  },
  {
   "cell_type": "code",
   "execution_count": 2,
   "id": "5cd60cf5",
   "metadata": {},
   "outputs": [],
   "source": [
    "def LCM(n, m):\n",
    "    result = (n * m) // GCD(n, m)\n",
    "    return result"
   ]
  },
  {
   "cell_type": "code",
   "execution_count": 3,
   "id": "e26bc31a",
   "metadata": {},
   "outputs": [
    {
     "name": "stdout",
     "output_type": "stream",
     "text": [
      "21\n"
     ]
    }
   ],
   "source": [
    "# TEST\n",
    "print (GCD(42, 21))"
   ]
  },
  {
   "cell_type": "code",
   "execution_count": 4,
   "id": "68d9c05e",
   "metadata": {},
   "outputs": [
    {
     "name": "stdout",
     "output_type": "stream",
     "text": [
      "672\n"
     ]
    }
   ],
   "source": [
    "print (LCM(42, 32))"
   ]
  },
  {
   "cell_type": "markdown",
   "id": "f75e9a4a",
   "metadata": {},
   "source": [
    "### [번외] 두 숫자를 입력하여 최대공약수와 최소공배수를 한번에 출력하는 solution 함수를 정의"
   ]
  },
  {
   "cell_type": "code",
   "execution_count": 5,
   "id": "656031f0",
   "metadata": {},
   "outputs": [],
   "source": [
    "def solution(n, m):\n",
    "    answer = []\n",
    "    answer = [GCD(n, m), LCM(n, m)]\n",
    "    return answer"
   ]
  },
  {
   "cell_type": "code",
   "execution_count": 6,
   "id": "6d6a931a",
   "metadata": {},
   "outputs": [
    {
     "name": "stdout",
     "output_type": "stream",
     "text": [
      "[21, 42]\n"
     ]
    }
   ],
   "source": [
    "x = solution(42, 21)\n",
    "print(x)"
   ]
  },
  {
   "cell_type": "code",
   "execution_count": null,
   "id": "4cf7d7fe",
   "metadata": {},
   "outputs": [],
   "source": []
  }
 ],
 "metadata": {
  "kernelspec": {
   "display_name": "Python 3",
   "language": "python",
   "name": "python3"
  },
  "language_info": {
   "codemirror_mode": {
    "name": "ipython",
    "version": 3
   },
   "file_extension": ".py",
   "mimetype": "text/x-python",
   "name": "python",
   "nbconvert_exporter": "python",
   "pygments_lexer": "ipython3",
   "version": "3.8.8"
  }
 },
 "nbformat": 4,
 "nbformat_minor": 5
}
